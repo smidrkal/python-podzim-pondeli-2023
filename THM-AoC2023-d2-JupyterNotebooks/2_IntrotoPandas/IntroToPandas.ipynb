{
 "cells": [
  {
   "cell_type": "markdown",
   "metadata": {},
   "source": [
    "## Introduction\n",
    "Pandas is a Python library that is used to work with data sets. Data sets are a collection of related information. For example, a list of sales figures can be considered a data set.\n",
    "\n",
    "Pandas allow us to manipulate, analyse, explore and clean the data set. Cleaning is essential to data analysis as it will improve the data quality, produce more accurate results, and make the data easier to work with.\n",
    "\n",
    "**Please note**, this notebook assumes you have read through the [IntroToPython](../1_IntroToPython/Python3CrashCourse.ipynb) notebook. If you have not done so, please do so before proceeding."
   ]
  },
  {
   "cell_type": "markdown",
   "metadata": {},
   "source": [
    "## Series\n",
    "A series is a data structure within Pandas which uses a key-value pair. This data structure can be considered a column in a table because it is one-dimensional. A series comprises a key-value pairing, where the key is the indices, and the value is the data stored within the index. Look at the table below for an example:\n"
   ]
  },
  {
   "cell_type": "markdown",
   "metadata": {},
   "source": [
    "Demonstrating the key-value pairing in a series:"
   ]
  },
  {
   "cell_type": "markdown",
   "metadata": {},
   "source": [
    "<table><caption></caption><thead><tr><th>Key</th><th>Value</th></tr></thead><tbody><tr><td>0</td><td>Train</td></tr><tr><td>1</td><td>Plane</td></tr><tr><td>2</td><td>Car</td></tr></tbody></table>"
   ]
  },
  {
   "cell_type": "markdown",
   "metadata": {},
   "source": [
    "Let's demonstrate this in Python. First, we will need import the Pandas library into our program. To make it easier in the future, I'm going to import Pandas and reference it is as `pd`:"
   ]
  },
  {
   "cell_type": "code",
   "execution_count": 1,
   "metadata": {},
   "outputs": [],
   "source": [
    "import pandas as pd"
   ]
  },
  {
   "cell_type": "markdown",
   "metadata": {},
   "source": [
    "Now, let's create a variable that is going to contain our data with is a Python list. The data in this case is modes of transportation."
   ]
  },
  {
   "cell_type": "code",
   "execution_count": 2,
   "metadata": {
    "scrolled": true
   },
   "outputs": [
    {
     "name": "stdout",
     "output_type": "stream",
     "text": [
      "['Train', 'Plane', 'Car']\n"
     ]
    }
   ],
   "source": [
    "transportation = ['Train', 'Plane', 'Car']\n",
    "\n",
    "print(transportation)"
   ]
  },
  {
   "cell_type": "markdown",
   "metadata": {},
   "source": [
    "To turn this into a series, let's:\n",
    "1. Create a new variable `transportation_series`\n",
    "2. Invoke Panda's Series function `pd.Series`\n",
    "3. Provide the variable `transportation` to it.\n",
    "4. Print out the series `print(transportation_series)`"
   ]
  },
  {
   "cell_type": "code",
   "execution_count": 3,
   "metadata": {},
   "outputs": [
    {
     "name": "stdout",
     "output_type": "stream",
     "text": [
      "0    Train\n",
      "1    Plane\n",
      "2      Car\n",
      "dtype: object\n"
     ]
    }
   ],
   "source": [
    "# Remember! We have already imported Pandas as pd in a previous step\n",
    "transportation_series = pd.Series(transportation)\n",
    "\n",
    "print(transportation_series)"
   ]
  },
  {
   "cell_type": "markdown",
   "metadata": {},
   "source": [
    "Note here the `dtype:`. This is the type of objects within the series. For now, here is a quick list of some examples of objects:\n",
    "- strings (words) = objects\n",
    "- integers (numbers) = int64"
   ]
  },
  {
   "cell_type": "markdown",
   "metadata": {},
   "source": [
    "## DataFrames\n",
    "DataFrames extend a series. In fact, DataFrames are a grouping of series and can be thought of as a spreadsheet or database because it is two-dimensional (a table with rows and columns). DataFrames are a crucial concept to understand. In this scenario, we are going to load the following data into a DataFrame:\n",
    "1. Name\n",
    "2. Age\n",
    "3. Country of Residence"
   ]
  },
  {
   "cell_type": "markdown",
   "metadata": {},
   "source": [
    "<table><thead><tr><th>Name</th><th>Age</th><th>Country of Residence</th></tr></thead><tbody><tr><td>Ben</td><td>24</td><td>United Kingdom</td></tr><tr><td>Jacob</td><td>32</td><td>United States of America</td></tr><tr><td>Alice</td><td>19</td><td>Germany&nbsp;</td></tr></tbody></table>"
   ]
  },
  {
   "cell_type": "markdown",
   "metadata": {},
   "source": [
    "Let's proceed!"
   ]
  },
  {
   "cell_type": "code",
   "execution_count": 4,
   "metadata": {},
   "outputs": [
    {
     "data": {
      "text/html": [
       "<div>\n",
       "<style scoped>\n",
       "    .dataframe tbody tr th:only-of-type {\n",
       "        vertical-align: middle;\n",
       "    }\n",
       "\n",
       "    .dataframe tbody tr th {\n",
       "        vertical-align: top;\n",
       "    }\n",
       "\n",
       "    .dataframe thead th {\n",
       "        text-align: right;\n",
       "    }\n",
       "</style>\n",
       "<table border=\"1\" class=\"dataframe\">\n",
       "  <thead>\n",
       "    <tr style=\"text-align: right;\">\n",
       "      <th></th>\n",
       "      <th>Name</th>\n",
       "      <th>Age</th>\n",
       "      <th>Country of Residence</th>\n",
       "    </tr>\n",
       "  </thead>\n",
       "  <tbody>\n",
       "    <tr>\n",
       "      <th>0</th>\n",
       "      <td>Ben</td>\n",
       "      <td>24</td>\n",
       "      <td>United Kingdom</td>\n",
       "    </tr>\n",
       "    <tr>\n",
       "      <th>1</th>\n",
       "      <td>Jacob</td>\n",
       "      <td>32</td>\n",
       "      <td>United States of America</td>\n",
       "    </tr>\n",
       "    <tr>\n",
       "      <th>2</th>\n",
       "      <td>Alice</td>\n",
       "      <td>19</td>\n",
       "      <td>Germany</td>\n",
       "    </tr>\n",
       "  </tbody>\n",
       "</table>\n",
       "</div>"
      ],
      "text/plain": [
       "    Name  Age      Country of Residence\n",
       "0    Ben   24            United Kingdom\n",
       "1  Jacob   32  United States of America\n",
       "2  Alice   19                   Germany"
      ]
     },
     "execution_count": 4,
     "metadata": {},
     "output_type": "execute_result"
    }
   ],
   "source": [
    "# Remember! We have already imported Pandas as pd in a previous step\n",
    "\n",
    "# Creating a two-dimensional list (remember - rows and columns!)\n",
    "\n",
    "data = [['Ben', 24, 'United Kingdom'],\n",
    "        ['Jacob', 32, 'United States of America'],\n",
    "        ['Alice', 19, 'Germany']]\n",
    "\n",
    "\n",
    "\"\"\" Now we create a new variable (df) to store the DataFrame using the list from above\n",
    "# We will need to specify the columns in the order of the list. For example:\n",
    "1. Name = Ben\n",
    "2. Age = 24\n",
    "3. United Kingdom\n",
    "\n",
    "\"\"\"\n",
    "df = pd.DataFrame(data, columns=['Name', 'Age', 'Country of Residence'])\n",
    "\n",
    "# Now let's print the dataframe (df)\n",
    "df"
   ]
  },
  {
   "cell_type": "markdown",
   "metadata": {},
   "source": [
    "Okay! That's a great start. Pandas allows us to do all sorts of manipulating. For example, let's say we wanted to only return a specific row, we can use Panda's `loc` and the index number of the row. In this demonstration, I want to return row #2. The indicie number for this will be 1 (recall that indicies start from 0)"
   ]
  },
  {
   "cell_type": "code",
   "execution_count": 5,
   "metadata": {},
   "outputs": [
    {
     "data": {
      "text/plain": [
       "Name                                       Jacob\n",
       "Age                                           32\n",
       "Country of Residence    United States of America\n",
       "Name: 1, dtype: object"
      ]
     },
     "execution_count": 5,
     "metadata": {},
     "output_type": "execute_result"
    }
   ],
   "source": [
    "# Rememeber! This is row #2\n",
    "df.loc[1]"
   ]
  },
  {
   "cell_type": "markdown",
   "metadata": {},
   "source": [
    "## Grouping\n",
    "Grouping is an essential concept in data analysis. Essentially, grouping is an operation in Pandas that allows us to group our data into categories and do something with them , such as:\n",
    "- Grouping columns\n",
    "- Grouping rows\n",
    "- Comparing\n",
    "\n",
    "In the example below, the company has hosted an awards night. We can use Panda's `groupby` to group the columns \"Department\" and \"Prize\" and `sum` to see how many awards each department has won:  "
   ]
  },
  {
   "cell_type": "code",
   "execution_count": 6,
   "metadata": {},
   "outputs": [
    {
     "data": {
      "text/html": [
       "<div>\n",
       "<style scoped>\n",
       "    .dataframe tbody tr th:only-of-type {\n",
       "        vertical-align: middle;\n",
       "    }\n",
       "\n",
       "    .dataframe tbody tr th {\n",
       "        vertical-align: top;\n",
       "    }\n",
       "\n",
       "    .dataframe thead th {\n",
       "        text-align: right;\n",
       "    }\n",
       "</style>\n",
       "<table border=\"1\" class=\"dataframe\">\n",
       "  <thead>\n",
       "    <tr style=\"text-align: right;\">\n",
       "      <th></th>\n",
       "      <th>Employee</th>\n",
       "      <th>Department</th>\n",
       "      <th>Prize</th>\n",
       "    </tr>\n",
       "  </thead>\n",
       "  <tbody>\n",
       "    <tr>\n",
       "      <th>0</th>\n",
       "      <td>Ben</td>\n",
       "      <td>IT</td>\n",
       "      <td>1</td>\n",
       "    </tr>\n",
       "    <tr>\n",
       "      <th>1</th>\n",
       "      <td>James</td>\n",
       "      <td>Accounts</td>\n",
       "      <td>1</td>\n",
       "    </tr>\n",
       "    <tr>\n",
       "      <th>2</th>\n",
       "      <td>Elis</td>\n",
       "      <td>Support</td>\n",
       "      <td>0</td>\n",
       "    </tr>\n",
       "    <tr>\n",
       "      <th>3</th>\n",
       "      <td>Mohammad</td>\n",
       "      <td>IT</td>\n",
       "      <td>1</td>\n",
       "    </tr>\n",
       "  </tbody>\n",
       "</table>\n",
       "</div>"
      ],
      "text/plain": [
       "   Employee Department  Prize\n",
       "0       Ben         IT      1\n",
       "1     James   Accounts      1\n",
       "2      Elis    Support      0\n",
       "3  Mohammad         IT      1"
      ]
     },
     "execution_count": 6,
     "metadata": {},
     "output_type": "execute_result"
    }
   ],
   "source": [
    "# Load awards.csv as a dataframe\n",
    "df = pd.read_csv(\"awards.csv\")\n",
    "df"
   ]
  },
  {
   "cell_type": "code",
   "execution_count": 7,
   "metadata": {},
   "outputs": [
    {
     "data": {
      "text/plain": [
       "Department\n",
       "Accounts    1\n",
       "IT          2\n",
       "Support     0\n",
       "Name: Prize, dtype: int64"
      ]
     },
     "execution_count": 7,
     "metadata": {},
     "output_type": "execute_result"
    }
   ],
   "source": [
    "# Group the columns \"Department\" and \"Prize\"\n",
    "df.groupby(['Department'])['Prize'].sum() # Use sum to return the sum of the values of each column"
   ]
  },
  {
   "cell_type": "code",
   "execution_count": 8,
   "metadata": {},
   "outputs": [
    {
     "data": {
      "text/html": [
       "<div>\n",
       "<style scoped>\n",
       "    .dataframe tbody tr th:only-of-type {\n",
       "        vertical-align: middle;\n",
       "    }\n",
       "\n",
       "    .dataframe tbody tr th {\n",
       "        vertical-align: top;\n",
       "    }\n",
       "\n",
       "    .dataframe thead th {\n",
       "        text-align: right;\n",
       "    }\n",
       "</style>\n",
       "<table border=\"1\" class=\"dataframe\">\n",
       "  <thead>\n",
       "    <tr style=\"text-align: right;\">\n",
       "      <th></th>\n",
       "      <th>count</th>\n",
       "      <th>mean</th>\n",
       "      <th>std</th>\n",
       "      <th>min</th>\n",
       "      <th>25%</th>\n",
       "      <th>50%</th>\n",
       "      <th>75%</th>\n",
       "      <th>max</th>\n",
       "    </tr>\n",
       "    <tr>\n",
       "      <th>Department</th>\n",
       "      <th></th>\n",
       "      <th></th>\n",
       "      <th></th>\n",
       "      <th></th>\n",
       "      <th></th>\n",
       "      <th></th>\n",
       "      <th></th>\n",
       "      <th></th>\n",
       "    </tr>\n",
       "  </thead>\n",
       "  <tbody>\n",
       "    <tr>\n",
       "      <th>Accounts</th>\n",
       "      <td>1.0</td>\n",
       "      <td>1.0</td>\n",
       "      <td>NaN</td>\n",
       "      <td>1.0</td>\n",
       "      <td>1.0</td>\n",
       "      <td>1.0</td>\n",
       "      <td>1.0</td>\n",
       "      <td>1.0</td>\n",
       "    </tr>\n",
       "    <tr>\n",
       "      <th>IT</th>\n",
       "      <td>2.0</td>\n",
       "      <td>1.0</td>\n",
       "      <td>0.0</td>\n",
       "      <td>1.0</td>\n",
       "      <td>1.0</td>\n",
       "      <td>1.0</td>\n",
       "      <td>1.0</td>\n",
       "      <td>1.0</td>\n",
       "    </tr>\n",
       "    <tr>\n",
       "      <th>Support</th>\n",
       "      <td>1.0</td>\n",
       "      <td>0.0</td>\n",
       "      <td>NaN</td>\n",
       "      <td>0.0</td>\n",
       "      <td>0.0</td>\n",
       "      <td>0.0</td>\n",
       "      <td>0.0</td>\n",
       "      <td>0.0</td>\n",
       "    </tr>\n",
       "  </tbody>\n",
       "</table>\n",
       "</div>"
      ],
      "text/plain": [
       "            count  mean  std  min  25%  50%  75%  max\n",
       "Department                                           \n",
       "Accounts      1.0   1.0  NaN  1.0  1.0  1.0  1.0  1.0\n",
       "IT            2.0   1.0  0.0  1.0  1.0  1.0  1.0  1.0\n",
       "Support       1.0   0.0  NaN  0.0  0.0  0.0  0.0  0.0"
      ]
     },
     "execution_count": 8,
     "metadata": {},
     "output_type": "execute_result"
    }
   ],
   "source": [
    "# Group the columns \"Department\" and \"Prize\"\n",
    "df.groupby(['Department'])['Prize'].describe() # Use describe to give a summary breakdown of the data in percentiles"
   ]
  }
 ],
 "metadata": {
  "kernelspec": {
   "display_name": "Python 3 (ipykernel)",
   "language": "python",
   "name": "python3"
  },
  "language_info": {
   "codemirror_mode": {
    "name": "ipython",
    "version": 3
   },
   "file_extension": ".py",
   "mimetype": "text/x-python",
   "name": "python",
   "nbconvert_exporter": "python",
   "pygments_lexer": "ipython3",
   "version": "3.8.10"
  }
 },
 "nbformat": 4,
 "nbformat_minor": 4
}