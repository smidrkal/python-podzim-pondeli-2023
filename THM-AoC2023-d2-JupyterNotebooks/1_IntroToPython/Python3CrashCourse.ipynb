{
 "cells": [
  {
   "cell_type": "code",
   "execution_count": 1,
   "metadata": {},
   "outputs": [
    {
     "data": {
      "text/html": [
       "<style>table {align:left;display:block} </style>"
      ],
      "text/plain": [
       "<IPython.core.display.HTML object>"
      ]
     },
     "execution_count": 1,
     "metadata": {},
     "output_type": "execute_result"
    }
   ],
   "source": [
    "from IPython.core.display import HTML\n",
    "table_css = 'table {align:left;display:block} '\n",
    "HTML('<style>{}</style>'.format(table_css))"
   ]
  },
  {
   "cell_type": "markdown",
   "metadata": {},
   "source": [
    "## Introduction\n",
    "Python is an extremely versatile, high-level programming language. Some examples include:\n",
    "- Web development\n",
    "- Game development\n",
    "- Exploit development in Cybersecurity\n",
    "- Desktop Application development\n",
    "- Artificial Intelligence\n",
    "- Data Science\n",
    "\n",
    "In today's task, you will learn how to use some essential data analysis libraries in Python: Pandas and Matplotlib.\n",
    "\n",
    "Note, if you are already familiar with Python, feel free to progress onto the next notebook [IntroToPandas](../2_IntrotoPandas/IntroToPandas.ipynb)."
   ]
  },
  {
   "cell_type": "markdown",
   "metadata": {},
   "source": [
    "## Hello World (print)\n",
    "There is no better place to start with learning a new language than the classic \"Hello World\" test. Python makes it incredibly easy to display text on the terminal. \n",
    "\n",
    "To output **Hello World**, we are going to use the `print()` statement. To print text, we need to encapsulate our text with double-quotation marks **\" \"**\n",
    "\n",
    "Remember to press \"Shift + Enter\" or the \"Run\" button in the toolbar to execute the code!\n"
   ]
  },
  {
   "cell_type": "code",
   "execution_count": 2,
   "metadata": {},
   "outputs": [
    {
     "name": "stdout",
     "output_type": "stream",
     "text": [
      "Hello World\n"
     ]
    }
   ],
   "source": [
    "print(\"Hello World\")"
   ]
  },
  {
   "cell_type": "markdown",
   "metadata": {},
   "source": [
    "## Data Types\n",
    "Let's move onto to data types. Programs can have all kinds of data within it. For example:\n",
    "1. **Whole numbers:** 1, 2, 3\n",
    "2. **Decimal numbers:** 4.5, 6.7, 8.9\n",
    "3. **Text:** Hello, my name is Ben!\n",
    "4. **True/False statements:** True/False 1/0\n",
    "\n",
    "The program needs to know what how to handle this data. To do so, it is given a type. Take a look at the table below to see some of the basic data types in Python:"
   ]
  },
  {
   "cell_type": "markdown",
   "metadata": {},
   "source": [
    "<table><caption>A few data types</caption><thead><tr><th>Data Type</th><th>Example</th></tr></thead><tbody><tr><td>integer (int)</td><td>5</td></tr><tr><td>float</td><td>3.5</td></tr><tr><td>string</td><td>tryhackme</td></tr><tr><td>boolean</td><td>True/False</td></tr></tbody></table>\n"
   ]
  },
  {
   "cell_type": "markdown",
   "metadata": {},
   "source": [
    "We will come on to explore these (and more!) throughout today's task."
   ]
  },
  {
   "cell_type": "markdown",
   "metadata": {},
   "source": [
    "## Variables\n",
    "A good way to think of variables is a storage box with a label on it. Say you were moving house, you would put items into a box and put a label on it so that you know what that box contains.\n",
    "\n",
    "It is very similar in programming, variables are used to store our data, given a name, and accessed later.\n",
    "\n",
    "The structure of a variable looks ike the following:\n",
    "`label = data`\n",
    "\n",
    "Recall our quick lesson data types. How we assign our data will depend on the data type. Take a look below:"
   ]
  },
  {
   "cell_type": "code",
   "execution_count": 3,
   "metadata": {},
   "outputs": [],
   "source": [
    "# age is our label (variable name).\n",
    "# 23 is our data. In this case, the data type is an integer.\n",
    "age = 23\n",
    "\n",
    "# We will now create another variable named \"name\" and store the string data type.\n",
    "name = \"Ben\" # note how this data type requires double quotations.\n",
    "\n",
    "# And another to store whether or not the person is left handed or not (True/False).\n",
    "is_left_handed = True # this is a boolean. Take care to remember that this is not a string!"
   ]
  },
  {
   "cell_type": "markdown",
   "metadata": {},
   "source": [
    "Variables are essential in programming, and are used throughout a program. For now, we are just going to use Python's print statement to output the contents of the variables."
   ]
  },
  {
   "cell_type": "code",
   "execution_count": 4,
   "metadata": {},
   "outputs": [
    {
     "name": "stdout",
     "output_type": "stream",
     "text": [
      "Name Ben\n",
      "Age: 23\n",
      "Is left handed?: True\n"
     ]
    }
   ],
   "source": [
    "# Here we are using the print statement to print some text, and then return the contents of each variable\n",
    "print(\"Name\", name)\n",
    "print(\"Age:\", age)\n",
    "print(\"Is left handed?:\", is_left_handed)"
   ]
  },
  {
   "cell_type": "markdown",
   "metadata": {},
   "source": [
    "Variables can be modified at a later stage of the program. Take the following for example, Ben has celebrated a birthday!:"
   ]
  },
  {
   "cell_type": "code",
   "execution_count": 5,
   "metadata": {},
   "outputs": [
    {
     "name": "stdout",
     "output_type": "stream",
     "text": [
      "Name Ben\n",
      "Age: 24\n",
      "Is left handed?: True\n"
     ]
    }
   ],
   "source": [
    "# We can just simply re define the variable\n",
    "# Note how the \"name\" and \"is_left_handed\" variables have not been changed\n",
    "age = 24\n",
    "\n",
    "print(\"Name\", name)\n",
    "print(\"Age:\", age)\n",
    "print(\"Is left handed?:\", is_left_handed)"
   ]
  },
  {
   "cell_type": "markdown",
   "metadata": {},
   "source": [
    "Note, this isn't the most efficient way of doing it. For now, we are just covering the foundations."
   ]
  },
  {
   "cell_type": "markdown",
   "metadata": {},
   "source": [
    "## Lists\n",
    "Lists are one of what's called a data structure in Python. Lists are used to store a collection of values as a variable. For example:"
   ]
  },
  {
   "cell_type": "code",
   "execution_count": 6,
   "metadata": {},
   "outputs": [],
   "source": [
    "transport = [\"Car\", \"Plane\", \"Train\"]\n",
    "\n",
    "age = [\"22\", \"19\", \"35\"]"
   ]
  },
  {
   "cell_type": "markdown",
   "metadata": {},
   "source": [
    "## Importing Libraries\n",
    "A library is a collection of code that can be imported into the application. Think of it as a \"plug in\". Libraries are extremely useful because it allows you to add functionality to your program, without having to write it from scratch.\n",
    "\n",
    "In today's task, you will be introduced to the Pandas and Matplotlib libraries. By using these libraries, we can very quickly (and easily) get hands-on with data manipulation.\n",
    "\n",
    "To import a library, we need to use `import` and the name of the library. Note, you will have to have the library installed on the machine that you are using - this has been done for you in today's task."
   ]
  },
  {
   "cell_type": "code",
   "execution_count": 7,
   "metadata": {},
   "outputs": [],
   "source": [
    "# Here we are importing the pandas library\n",
    "import pandas\n",
    "\n",
    "# We can actually import a library, but \"rename\" it for our convenience.\n",
    "# Here we are importing \"pandas\" but are \"renaming\" it to \"pd\". All of our code will now use \"pd\"\n",
    "import pandas as pd"
   ]
  }
 ],
 "metadata": {
  "kernelspec": {
   "display_name": "Python 3 (ipykernel)",
   "language": "python",
   "name": "python3"
  },
  "language_info": {
   "codemirror_mode": {
    "name": "ipython",
    "version": 3
   },
   "file_extension": ".py",
   "mimetype": "text/x-python",
   "name": "python",
   "nbconvert_exporter": "python",
   "pygments_lexer": "ipython3",
   "version": "3.8.10"
  }
 },
 "nbformat": 4,
 "nbformat_minor": 4
}