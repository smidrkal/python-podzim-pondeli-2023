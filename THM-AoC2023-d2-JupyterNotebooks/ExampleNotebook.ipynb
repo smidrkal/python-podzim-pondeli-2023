{
 "cells": [
  {
   "cell_type": "markdown",
   "id": "69512e1e-8ec7-44bf-8f55-f81a4bdebfe7",
   "metadata": {},
   "source": [
    "## Hello World\n",
    "this is an example hello world application in Python on my first Notebook"
   ]
  },
  {
   "cell_type": "code",
   "execution_count": 3,
   "id": "67054721-320e-4f43-81d3-e7fba3f4e05a",
   "metadata": {},
   "outputs": [
    {
     "name": "stdout",
     "output_type": "stream",
     "text": [
      "Hello World\n"
     ]
    }
   ],
   "source": [
    "print(\"Hello World\")"
   ]
  },
  {
   "cell_type": "code",
   "execution_count": 4,
   "id": "30ba2a84-6c5b-4ad4-a35e-9297b946df0b",
   "metadata": {},
   "outputs": [
    {
     "name": "stdout",
     "output_type": "stream",
     "text": [
      "TryHackMe\n"
     ]
    }
   ],
   "source": [
    "print(\"TryHackMe\")"
   ]
  },
  {
   "cell_type": "markdown",
   "metadata": {},
   "source": [
    "Zdroj: https://tryhackme.com/room/adventofcyber2023 \n",
    "    -> Task 8\n",
    "    \n",
    "    \n",
    "WalkThrough: https://www.youtube.com/watch?v=L_GinPxbuzI   "
   ]
  },
  {
   "cell_type": "code",
   "execution_count": null,
   "id": "892efbe6-b349-4401-93a3-d4df152d9e4e",
   "metadata": {},
   "outputs": [],
   "source": []
  }
 ],
 "metadata": {
  "kernelspec": {
   "display_name": "Python 3 (ipykernel)",
   "language": "python",
   "name": "python3"
  },
  "language_info": {
   "codemirror_mode": {
    "name": "ipython",
    "version": 3
   },
   "file_extension": ".py",
   "mimetype": "text/x-python",
   "name": "python",
   "nbconvert_exporter": "python",
   "pygments_lexer": "ipython3",
   "version": "3.8.10"
  }
 },
 "nbformat": 4,
 "nbformat_minor": 5
}
